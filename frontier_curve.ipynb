{
 "cells": [
  {
   "cell_type": "code",
   "execution_count": 1,
   "metadata": {},
   "outputs": [],
   "source": [
    "import numpy as np\n",
    "import pandas as pd\n",
    "from bokeh.plotting import figure, show"
   ]
  },
  {
   "cell_type": "code",
   "execution_count": 2,
   "metadata": {},
   "outputs": [],
   "source": [
    "w = np.arange(0,1,0.01)\n",
    "r = []\n",
    "std = []"
   ]
  },
  {
   "cell_type": "code",
   "execution_count": 3,
   "metadata": {},
   "outputs": [],
   "source": [
    "r_1 = 0.08\n",
    "r_2 = 0.12\n",
    "sigma1 = 0.20\n",
    "sigma2 = 0.18\n",
    "sigma12 = 0.01\n",
    "for i in w:\n",
    "    r_value = (1-i)*r_1 + i*r_2\n",
    "    r.append(r_value)\n",
    "    std_val = np.sqrt(((i*sigma1)**2+(2*i*(1-i)*sigma12)+((1-i)*sigma2)**2)**2)\n",
    "    std.append(std_val)"
   ]
  },
  {
   "cell_type": "code",
   "execution_count": 8,
   "metadata": {},
   "outputs": [],
   "source": [
    "p1 = figure(plot_height = 800, plot_width = 1000, \n",
    "        title = 'Mean return Std',\n",
    "        x_axis_label = 'std', \n",
    "        y_axis_label = 'mean')\n",
    "p1.line(std, r, line_width=2, color = 'blue')\n",
    "show(p1)"
   ]
  },
  {
   "cell_type": "code",
   "execution_count": null,
   "metadata": {},
   "outputs": [],
   "source": []
  }
 ],
 "metadata": {
  "kernelspec": {
   "display_name": "Python 3.10.2 64-bit",
   "language": "python",
   "name": "python3"
  },
  "language_info": {
   "codemirror_mode": {
    "name": "ipython",
    "version": 3
   },
   "file_extension": ".py",
   "mimetype": "text/x-python",
   "name": "python",
   "nbconvert_exporter": "python",
   "pygments_lexer": "ipython3",
   "version": "3.10.2"
  },
  "orig_nbformat": 4,
  "vscode": {
   "interpreter": {
    "hash": "aee8b7b246df8f9039afb4144a1f6fd8d2ca17a180786b69acc140d282b71a49"
   }
  }
 },
 "nbformat": 4,
 "nbformat_minor": 2
}
